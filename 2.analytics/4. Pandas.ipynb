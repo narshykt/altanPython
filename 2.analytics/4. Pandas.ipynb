{
 "cells": [
  {
   "cell_type": "markdown",
   "id": "8314c2c1",
   "metadata": {},
   "source": [
    "# Pandas"
   ]
  },
  {
   "cell_type": "code",
   "execution_count": 2,
   "id": "e3f278fc",
   "metadata": {},
   "outputs": [],
   "source": [
    "import numpy as np\n",
    "import pandas as pd"
   ]
  },
  {
   "cell_type": "markdown",
   "id": "dd1b94fa",
   "metadata": {},
   "source": [
    "## Объекты Pandas\n",
    "- Series"
   ]
  },
  {
   "cell_type": "code",
   "execution_count": 3,
   "id": "668797eb",
   "metadata": {},
   "outputs": [
    {
     "data": {
      "text/plain": [
       "0    10\n",
       "1    20\n",
       "2    30\n",
       "3    40\n",
       "dtype: int64"
      ]
     },
     "execution_count": 3,
     "metadata": {},
     "output_type": "execute_result"
    }
   ],
   "source": [
    "# Series - 1-мерный массив индексированных данных\n",
    "data_1d = pd.Series([10, 20, 30, 40])\n",
    "data_1d"
   ]
  },
  {
   "cell_type": "code",
   "execution_count": 4,
   "id": "35680ac1",
   "metadata": {},
   "outputs": [
    {
     "name": "stdout",
     "output_type": "stream",
     "text": [
      "0    10\n",
      "1    20\n",
      "2    30\n",
      "3    40\n",
      "dtype: int64\n"
     ]
    }
   ],
   "source": [
    "print(data_1d)"
   ]
  },
  {
   "cell_type": "code",
   "execution_count": null,
   "id": "45e34427",
   "metadata": {},
   "outputs": [],
   "source": []
  },
  {
   "cell_type": "markdown",
   "id": "4987a9e6",
   "metadata": {},
   "source": [
    "- атрибуты"
   ]
  },
  {
   "cell_type": "code",
   "execution_count": 5,
   "id": "6bab72e7",
   "metadata": {},
   "outputs": [
    {
     "data": {
      "text/plain": [
       "array([10, 20, 30, 40], dtype=int64)"
      ]
     },
     "execution_count": 5,
     "metadata": {},
     "output_type": "execute_result"
    }
   ],
   "source": [
    "# значения\n",
    "data_1d.values"
   ]
  },
  {
   "cell_type": "code",
   "execution_count": 6,
   "id": "c31337cd",
   "metadata": {},
   "outputs": [
    {
     "data": {
      "text/plain": [
       "RangeIndex(start=0, stop=4, step=1)"
      ]
     },
     "execution_count": 6,
     "metadata": {},
     "output_type": "execute_result"
    }
   ],
   "source": [
    "# индексы\n",
    "data_1d.index"
   ]
  },
  {
   "cell_type": "code",
   "execution_count": 9,
   "id": "cf34b2bd",
   "metadata": {},
   "outputs": [
    {
     "name": "stdout",
     "output_type": "stream",
     "text": [
      "0\n",
      "1\n",
      "2\n",
      "3\n"
     ]
    }
   ],
   "source": [
    "for i in data_1d.index:\n",
    "    print(i)"
   ]
  },
  {
   "cell_type": "code",
   "execution_count": 11,
   "id": "b5deaccb",
   "metadata": {},
   "outputs": [
    {
     "data": {
      "text/plain": [
       "(4,)"
      ]
     },
     "execution_count": 11,
     "metadata": {},
     "output_type": "execute_result"
    }
   ],
   "source": [
    "# форма\n",
    "data_1d.shape"
   ]
  },
  {
   "cell_type": "code",
   "execution_count": 12,
   "id": "be2c4a7d",
   "metadata": {},
   "outputs": [
    {
     "data": {
      "text/plain": [
       "dtype('int64')"
      ]
     },
     "execution_count": 12,
     "metadata": {},
     "output_type": "execute_result"
    }
   ],
   "source": [
    "# тип данных\n",
    "data_1d.dtype"
   ]
  },
  {
   "cell_type": "code",
   "execution_count": null,
   "id": "6dd6ab28",
   "metadata": {},
   "outputs": [],
   "source": []
  },
  {
   "cell_type": "markdown",
   "id": "e8fd6f2c",
   "metadata": {},
   "source": [
    "- чтение и запись данных"
   ]
  },
  {
   "cell_type": "code",
   "execution_count": 13,
   "id": "24f76253",
   "metadata": {},
   "outputs": [
    {
     "data": {
      "text/plain": [
       "10"
      ]
     },
     "execution_count": 13,
     "metadata": {},
     "output_type": "execute_result"
    }
   ],
   "source": [
    "data_1d[0]"
   ]
  },
  {
   "cell_type": "code",
   "execution_count": 15,
   "id": "d55e9363",
   "metadata": {},
   "outputs": [
    {
     "data": {
      "text/plain": [
       "0     10\n",
       "1    100\n",
       "2     30\n",
       "3     40\n",
       "dtype: int64"
      ]
     },
     "execution_count": 15,
     "metadata": {},
     "output_type": "execute_result"
    }
   ],
   "source": [
    "data_1d[1] = 100\n",
    "data_1d"
   ]
  },
  {
   "cell_type": "code",
   "execution_count": 16,
   "id": "2dc7cac3",
   "metadata": {},
   "outputs": [
    {
     "data": {
      "text/plain": [
       "0    10\n",
       "2    30\n",
       "3    40\n",
       "dtype: int64"
      ]
     },
     "execution_count": 16,
     "metadata": {},
     "output_type": "execute_result"
    }
   ],
   "source": [
    "del data_1d[1]\n",
    "data_1d"
   ]
  },
  {
   "cell_type": "code",
   "execution_count": null,
   "id": "68c81c85",
   "metadata": {},
   "outputs": [],
   "source": []
  },
  {
   "cell_type": "code",
   "execution_count": 17,
   "id": "493131ea",
   "metadata": {},
   "outputs": [
    {
     "data": {
      "text/plain": [
       "3    10\n",
       "2    20\n",
       "5    30\n",
       "0    40\n",
       "dtype: int64"
      ]
     },
     "execution_count": 17,
     "metadata": {},
     "output_type": "execute_result"
    }
   ],
   "source": [
    "# явные индексы\n",
    "data_2 = pd.Series([10, 20, 30, 40], index = [3,2,5,0])\n",
    "data_2"
   ]
  },
  {
   "cell_type": "code",
   "execution_count": 18,
   "id": "39a626a6",
   "metadata": {},
   "outputs": [
    {
     "data": {
      "text/plain": [
       "10"
      ]
     },
     "execution_count": 18,
     "metadata": {},
     "output_type": "execute_result"
    }
   ],
   "source": [
    "data_2[3]"
   ]
  },
  {
   "cell_type": "code",
   "execution_count": 21,
   "id": "ea8083fa",
   "metadata": {},
   "outputs": [
    {
     "data": {
      "text/plain": [
       "10"
      ]
     },
     "execution_count": 21,
     "metadata": {},
     "output_type": "execute_result"
    }
   ],
   "source": [
    "# неявные индексы (numpy-индексы)\n",
    "data_2.iloc[0]"
   ]
  },
  {
   "cell_type": "code",
   "execution_count": 8,
   "id": "7f2f5b8e",
   "metadata": {},
   "outputs": [
    {
     "data": {
      "text/plain": [
       "200"
      ]
     },
     "execution_count": 8,
     "metadata": {},
     "output_type": "execute_result"
    }
   ],
   "source": [
    "# создание Series из словаря\n",
    "d = {'a':100, 'b':200, 'c':300}\n",
    "s = pd.Series(d)\n",
    "s['b']"
   ]
  },
  {
   "cell_type": "code",
   "execution_count": 9,
   "id": "778343d1",
   "metadata": {},
   "outputs": [
    {
     "data": {
      "text/plain": [
       "{'Yakutsk': 318768, 'Neryungri': 57009, 'Viliyusk': 11095}"
      ]
     },
     "execution_count": 9,
     "metadata": {},
     "output_type": "execute_result"
    }
   ],
   "source": [
    "pop_dict = {\n",
    "    'Yakutsk': 318768,\n",
    "    'Neryungri': 57009,\n",
    "    'Viliyusk': 11095\n",
    "}\n",
    "pop_dict"
   ]
  },
  {
   "cell_type": "code",
   "execution_count": 10,
   "id": "12a4a1c4",
   "metadata": {},
   "outputs": [
    {
     "data": {
      "text/plain": [
       "Yakutsk      318768\n",
       "Neryungri     57009\n",
       "Viliyusk      11095\n",
       "dtype: int64"
      ]
     },
     "execution_count": 10,
     "metadata": {},
     "output_type": "execute_result"
    }
   ],
   "source": [
    "pop_data = pd.Series(pop_dict)\n",
    "pop_data"
   ]
  },
  {
   "cell_type": "code",
   "execution_count": 12,
   "id": "4403dd2f",
   "metadata": {},
   "outputs": [
    {
     "data": {
      "text/plain": [
       "318768"
      ]
     },
     "execution_count": 12,
     "metadata": {},
     "output_type": "execute_result"
    }
   ],
   "source": [
    "pop_data['Yakutsk']"
   ]
  },
  {
   "cell_type": "code",
   "execution_count": 39,
   "id": "141716be",
   "metadata": {},
   "outputs": [
    {
     "data": {
      "text/plain": [
       "Yakutsk      319000\n",
       "Neryungri     57009\n",
       "Viliyusk      11095\n",
       "Tiksi          4000\n",
       "dtype: int64"
      ]
     },
     "execution_count": 39,
     "metadata": {},
     "output_type": "execute_result"
    }
   ],
   "source": [
    "pop_data['Yakutsk'] = 319000.0\n",
    "pop_data"
   ]
  },
  {
   "cell_type": "code",
   "execution_count": 14,
   "id": "4187264f",
   "metadata": {},
   "outputs": [
    {
     "data": {
      "text/plain": [
       "Neryungri    57009\n",
       "Viliyusk     11095\n",
       "dtype: int64"
      ]
     },
     "execution_count": 14,
     "metadata": {},
     "output_type": "execute_result"
    }
   ],
   "source": [
    "pop_data['Neryungri':] # срез начиная с Нерюнгри и до конца словаря"
   ]
  },
  {
   "cell_type": "code",
   "execution_count": 15,
   "id": "74b733af",
   "metadata": {},
   "outputs": [
    {
     "data": {
      "text/plain": [
       "Yakutsk      319000\n",
       "Neryungri     57009\n",
       "dtype: int64"
      ]
     },
     "execution_count": 15,
     "metadata": {},
     "output_type": "execute_result"
    }
   ],
   "source": [
    "# конечный индекс диапазона среза включается в срез\n",
    "pop_data[:'Neryungri']"
   ]
  },
  {
   "cell_type": "code",
   "execution_count": 16,
   "id": "fe7d4a12",
   "metadata": {},
   "outputs": [
    {
     "data": {
      "text/plain": [
       "Yakutsk      319000\n",
       "Neryungri     57009\n",
       "Viliyusk      11095\n",
       "Tiksi          4000\n",
       "dtype: int64"
      ]
     },
     "execution_count": 16,
     "metadata": {},
     "output_type": "execute_result"
    }
   ],
   "source": [
    "# добавление новой строки с использованием словарного синтаксиса\n",
    "pop_data['Tiksi'] = 4000\n",
    "pop_data"
   ]
  },
  {
   "cell_type": "code",
   "execution_count": null,
   "id": "bd56c9e1",
   "metadata": {},
   "outputs": [],
   "source": []
  },
  {
   "cell_type": "markdown",
   "id": "a066ee18",
   "metadata": {},
   "source": [
    "- DataFrame"
   ]
  },
  {
   "cell_type": "code",
   "execution_count": 17,
   "id": "4f55ba98",
   "metadata": {},
   "outputs": [
    {
     "data": {
      "text/plain": [
       "{'col_1': {'a': 100, 'b': 200}, 'col_2': {'b': 2000, 'c': 30000}}"
      ]
     },
     "execution_count": 17,
     "metadata": {},
     "output_type": "execute_result"
    }
   ],
   "source": [
    "# DataFrame - многомерный массив (таблица) \n",
    "# создание на базе словаря\n",
    "data_dict = {\n",
    "    'col_1': {'a':100, 'b':200},\n",
    "    'col_2': {'b':2000, 'c':30000}\n",
    "}\n",
    "data_dict"
   ]
  },
  {
   "cell_type": "code",
   "execution_count": 18,
   "id": "2d46f972",
   "metadata": {},
   "outputs": [
    {
     "data": {
      "text/html": [
       "<div>\n",
       "<style scoped>\n",
       "    .dataframe tbody tr th:only-of-type {\n",
       "        vertical-align: middle;\n",
       "    }\n",
       "\n",
       "    .dataframe tbody tr th {\n",
       "        vertical-align: top;\n",
       "    }\n",
       "\n",
       "    .dataframe thead th {\n",
       "        text-align: right;\n",
       "    }\n",
       "</style>\n",
       "<table border=\"1\" class=\"dataframe\">\n",
       "  <thead>\n",
       "    <tr style=\"text-align: right;\">\n",
       "      <th></th>\n",
       "      <th>col_1</th>\n",
       "      <th>col_2</th>\n",
       "    </tr>\n",
       "  </thead>\n",
       "  <tbody>\n",
       "    <tr>\n",
       "      <th>a</th>\n",
       "      <td>100.0</td>\n",
       "      <td>NaN</td>\n",
       "    </tr>\n",
       "    <tr>\n",
       "      <th>b</th>\n",
       "      <td>200.0</td>\n",
       "      <td>2000.0</td>\n",
       "    </tr>\n",
       "    <tr>\n",
       "      <th>c</th>\n",
       "      <td>NaN</td>\n",
       "      <td>30000.0</td>\n",
       "    </tr>\n",
       "  </tbody>\n",
       "</table>\n",
       "</div>"
      ],
      "text/plain": [
       "   col_1    col_2\n",
       "a  100.0      NaN\n",
       "b  200.0   2000.0\n",
       "c    NaN  30000.0"
      ]
     },
     "execution_count": 18,
     "metadata": {},
     "output_type": "execute_result"
    }
   ],
   "source": [
    "pd.DataFrame(data_dict)"
   ]
  },
  {
   "cell_type": "code",
   "execution_count": 22,
   "id": "bb2cf0a5",
   "metadata": {},
   "outputs": [],
   "source": [
    "# NaN - not a number (аналог None)"
   ]
  },
  {
   "cell_type": "code",
   "execution_count": 21,
   "id": "433d6b86",
   "metadata": {},
   "outputs": [
    {
     "data": {
      "text/plain": [
       "Yakutsk      319000\n",
       "Neryungri     57009\n",
       "Viliyusk      11095\n",
       "Tiksi          4000\n",
       "dtype: int64"
      ]
     },
     "execution_count": 21,
     "metadata": {},
     "output_type": "execute_result"
    }
   ],
   "source": [
    "pop_data"
   ]
  },
  {
   "cell_type": "code",
   "execution_count": 23,
   "id": "d7f9508a",
   "metadata": {},
   "outputs": [
    {
     "data": {
      "text/plain": [
       "Yakutsk      122.0\n",
       "Viliyusk      15.0\n",
       "Neryungri     98.9\n",
       "dtype: float64"
      ]
     },
     "execution_count": 23,
     "metadata": {},
     "output_type": "execute_result"
    }
   ],
   "source": [
    "# новые данные\n",
    "area_data = pd.Series({\n",
    "    'Yakutsk': 122,\n",
    "    'Viliyusk': 15,\n",
    "    'Neryungri':98.9\n",
    "})\n",
    "area_data"
   ]
  },
  {
   "cell_type": "code",
   "execution_count": 24,
   "id": "c131e2e4",
   "metadata": {},
   "outputs": [
    {
     "data": {
      "text/html": [
       "<div>\n",
       "<style scoped>\n",
       "    .dataframe tbody tr th:only-of-type {\n",
       "        vertical-align: middle;\n",
       "    }\n",
       "\n",
       "    .dataframe tbody tr th {\n",
       "        vertical-align: top;\n",
       "    }\n",
       "\n",
       "    .dataframe thead th {\n",
       "        text-align: right;\n",
       "    }\n",
       "</style>\n",
       "<table border=\"1\" class=\"dataframe\">\n",
       "  <thead>\n",
       "    <tr style=\"text-align: right;\">\n",
       "      <th></th>\n",
       "      <th>Население</th>\n",
       "      <th>Площадь</th>\n",
       "    </tr>\n",
       "  </thead>\n",
       "  <tbody>\n",
       "    <tr>\n",
       "      <th>Neryungri</th>\n",
       "      <td>57009</td>\n",
       "      <td>98.9</td>\n",
       "    </tr>\n",
       "    <tr>\n",
       "      <th>Tiksi</th>\n",
       "      <td>4000</td>\n",
       "      <td>NaN</td>\n",
       "    </tr>\n",
       "    <tr>\n",
       "      <th>Viliyusk</th>\n",
       "      <td>11095</td>\n",
       "      <td>15.0</td>\n",
       "    </tr>\n",
       "    <tr>\n",
       "      <th>Yakutsk</th>\n",
       "      <td>319000</td>\n",
       "      <td>122.0</td>\n",
       "    </tr>\n",
       "  </tbody>\n",
       "</table>\n",
       "</div>"
      ],
      "text/plain": [
       "           Население  Площадь\n",
       "Neryungri      57009     98.9\n",
       "Tiksi           4000      NaN\n",
       "Viliyusk       11095     15.0\n",
       "Yakutsk       319000    122.0"
      ]
     },
     "execution_count": 24,
     "metadata": {},
     "output_type": "execute_result"
    }
   ],
   "source": [
    "cities_data = pd.DataFrame({'Население': pop_data, 'Площадь': area_data})\n",
    "cities_data"
   ]
  },
  {
   "cell_type": "code",
   "execution_count": 25,
   "id": "746c5911",
   "metadata": {},
   "outputs": [
    {
     "data": {
      "text/plain": [
       "Index(['Neryungri', 'Tiksi', 'Viliyusk', 'Yakutsk'], dtype='object')"
      ]
     },
     "execution_count": 25,
     "metadata": {},
     "output_type": "execute_result"
    }
   ],
   "source": [
    "# индексы строк\n",
    "cities_data.index"
   ]
  },
  {
   "cell_type": "code",
   "execution_count": 27,
   "id": "1f072bc3",
   "metadata": {},
   "outputs": [
    {
     "data": {
      "text/plain": [
       "Index(['Население', 'Площадь'], dtype='object')"
      ]
     },
     "execution_count": 27,
     "metadata": {},
     "output_type": "execute_result"
    }
   ],
   "source": [
    "# индексы столбцов\n",
    "cities_data.columns"
   ]
  },
  {
   "cell_type": "code",
   "execution_count": 31,
   "id": "2fa8078c",
   "metadata": {},
   "outputs": [
    {
     "data": {
      "text/plain": [
       "Neryungri     57009\n",
       "Tiksi          4000\n",
       "Viliyusk      11095\n",
       "Yakutsk      319000\n",
       "Name: Население, dtype: int64"
      ]
     },
     "execution_count": 31,
     "metadata": {},
     "output_type": "execute_result"
    }
   ],
   "source": [
    "# DataFrame можно рассматривать как специализированный словарь,\n",
    "# содержащий Series-объекта.\n",
    "cities_data['Население']"
   ]
  },
  {
   "cell_type": "code",
   "execution_count": 35,
   "id": "2e24858e",
   "metadata": {},
   "outputs": [
    {
     "data": {
      "text/plain": [
       "4000"
      ]
     },
     "execution_count": 35,
     "metadata": {},
     "output_type": "execute_result"
    }
   ],
   "source": [
    "# обращение к одному значению \n",
    "cities_data['Население']['Tiksi']"
   ]
  },
  {
   "cell_type": "code",
   "execution_count": 30,
   "id": "93027198",
   "metadata": {},
   "outputs": [
    {
     "data": {
      "text/plain": [
       "Население    4000.0\n",
       "Площадь         NaN\n",
       "Name: Tiksi, dtype: float64"
      ]
     },
     "execution_count": 30,
     "metadata": {},
     "output_type": "execute_result"
    }
   ],
   "source": [
    "# чтение строки \n",
    "# [индексация строк, индексация столбцов]\n",
    "# loc - атрибут-индексатор для работы с явными индексами\n",
    "cities_data.loc['Tiksi',:]"
   ]
  },
  {
   "cell_type": "code",
   "execution_count": 40,
   "id": "b8bb6b46",
   "metadata": {},
   "outputs": [
    {
     "data": {
      "text/html": [
       "<div>\n",
       "<style scoped>\n",
       "    .dataframe tbody tr th:only-of-type {\n",
       "        vertical-align: middle;\n",
       "    }\n",
       "\n",
       "    .dataframe tbody tr th {\n",
       "        vertical-align: top;\n",
       "    }\n",
       "\n",
       "    .dataframe thead th {\n",
       "        text-align: right;\n",
       "    }\n",
       "</style>\n",
       "<table border=\"1\" class=\"dataframe\">\n",
       "  <thead>\n",
       "    <tr style=\"text-align: right;\">\n",
       "      <th></th>\n",
       "      <th>Население</th>\n",
       "      <th>Площадь</th>\n",
       "    </tr>\n",
       "  </thead>\n",
       "  <tbody>\n",
       "    <tr>\n",
       "      <th>Tiksi</th>\n",
       "      <td>4000</td>\n",
       "      <td>NaN</td>\n",
       "    </tr>\n",
       "    <tr>\n",
       "      <th>Yakutsk</th>\n",
       "      <td>319000</td>\n",
       "      <td>122.0</td>\n",
       "    </tr>\n",
       "  </tbody>\n",
       "</table>\n",
       "</div>"
      ],
      "text/plain": [
       "         Население  Площадь\n",
       "Tiksi         4000      NaN\n",
       "Yakutsk     319000    122.0"
      ]
     },
     "execution_count": 40,
     "metadata": {},
     "output_type": "execute_result"
    }
   ],
   "source": [
    "cities_data.loc[['Tiksi', 'Yakutsk'],:]"
   ]
  },
  {
   "cell_type": "code",
   "execution_count": 47,
   "id": "91ae9e3e",
   "metadata": {},
   "outputs": [
    {
     "data": {
      "text/html": [
       "<div>\n",
       "<style scoped>\n",
       "    .dataframe tbody tr th:only-of-type {\n",
       "        vertical-align: middle;\n",
       "    }\n",
       "\n",
       "    .dataframe tbody tr th {\n",
       "        vertical-align: top;\n",
       "    }\n",
       "\n",
       "    .dataframe thead th {\n",
       "        text-align: right;\n",
       "    }\n",
       "</style>\n",
       "<table border=\"1\" class=\"dataframe\">\n",
       "  <thead>\n",
       "    <tr style=\"text-align: right;\">\n",
       "      <th></th>\n",
       "      <th>Население</th>\n",
       "      <th>Площадь</th>\n",
       "    </tr>\n",
       "  </thead>\n",
       "  <tbody>\n",
       "    <tr>\n",
       "      <th>Tiksi</th>\n",
       "      <td>4000</td>\n",
       "      <td>NaN</td>\n",
       "    </tr>\n",
       "    <tr>\n",
       "      <th>Yakutsk</th>\n",
       "      <td>319000</td>\n",
       "      <td>122.0</td>\n",
       "    </tr>\n",
       "  </tbody>\n",
       "</table>\n",
       "</div>"
      ],
      "text/plain": [
       "         Население  Площадь\n",
       "Tiksi         4000      NaN\n",
       "Yakutsk     319000    122.0"
      ]
     },
     "execution_count": 47,
     "metadata": {},
     "output_type": "execute_result"
    }
   ],
   "source": [
    "# iloc - неявные индексы (python)\n",
    "cities_data.iloc[[1, 3],:]"
   ]
  },
  {
   "cell_type": "code",
   "execution_count": 48,
   "id": "fb5f8830",
   "metadata": {},
   "outputs": [
    {
     "data": {
      "text/plain": [
       "Neryungri     True\n",
       "Tiksi        False\n",
       "Viliyusk     False\n",
       "Yakutsk       True\n",
       "Name: Площадь, dtype: bool"
      ]
     },
     "execution_count": 48,
     "metadata": {},
     "output_type": "execute_result"
    }
   ],
   "source": [
    "# маскирование \n",
    "cities_data['Площадь'] > 20"
   ]
  },
  {
   "cell_type": "code",
   "execution_count": 53,
   "id": "9d520eb0",
   "metadata": {},
   "outputs": [
    {
     "data": {
      "text/html": [
       "<div>\n",
       "<style scoped>\n",
       "    .dataframe tbody tr th:only-of-type {\n",
       "        vertical-align: middle;\n",
       "    }\n",
       "\n",
       "    .dataframe tbody tr th {\n",
       "        vertical-align: top;\n",
       "    }\n",
       "\n",
       "    .dataframe thead th {\n",
       "        text-align: right;\n",
       "    }\n",
       "</style>\n",
       "<table border=\"1\" class=\"dataframe\">\n",
       "  <thead>\n",
       "    <tr style=\"text-align: right;\">\n",
       "      <th></th>\n",
       "      <th>Население</th>\n",
       "      <th>Площадь</th>\n",
       "    </tr>\n",
       "  </thead>\n",
       "  <tbody>\n",
       "    <tr>\n",
       "      <th>Neryungri</th>\n",
       "      <td>57009</td>\n",
       "      <td>98.9</td>\n",
       "    </tr>\n",
       "    <tr>\n",
       "      <th>Yakutsk</th>\n",
       "      <td>319000</td>\n",
       "      <td>122.0</td>\n",
       "    </tr>\n",
       "  </tbody>\n",
       "</table>\n",
       "</div>"
      ],
      "text/plain": [
       "           Население  Площадь\n",
       "Neryungri      57009     98.9\n",
       "Yakutsk       319000    122.0"
      ]
     },
     "execution_count": 53,
     "metadata": {},
     "output_type": "execute_result"
    }
   ],
   "source": [
    "# для строк\n",
    "mask = cities_data['Площадь'] > 20\n",
    "cities_data.loc[mask, :]"
   ]
  },
  {
   "cell_type": "code",
   "execution_count": 57,
   "id": "0dbea58e",
   "metadata": {},
   "outputs": [
    {
     "data": {
      "text/html": [
       "<div>\n",
       "<style scoped>\n",
       "    .dataframe tbody tr th:only-of-type {\n",
       "        vertical-align: middle;\n",
       "    }\n",
       "\n",
       "    .dataframe tbody tr th {\n",
       "        vertical-align: top;\n",
       "    }\n",
       "\n",
       "    .dataframe thead th {\n",
       "        text-align: right;\n",
       "    }\n",
       "</style>\n",
       "<table border=\"1\" class=\"dataframe\">\n",
       "  <thead>\n",
       "    <tr style=\"text-align: right;\">\n",
       "      <th></th>\n",
       "      <th>Население</th>\n",
       "      <th>Площадь</th>\n",
       "      <th>плотность</th>\n",
       "      <th>Плотность</th>\n",
       "    </tr>\n",
       "  </thead>\n",
       "  <tbody>\n",
       "    <tr>\n",
       "      <th>Neryungri</th>\n",
       "      <td>57009</td>\n",
       "      <td>98.9</td>\n",
       "      <td>576.430738</td>\n",
       "      <td>576.430738</td>\n",
       "    </tr>\n",
       "    <tr>\n",
       "      <th>Tiksi</th>\n",
       "      <td>4000</td>\n",
       "      <td>NaN</td>\n",
       "      <td>NaN</td>\n",
       "      <td>NaN</td>\n",
       "    </tr>\n",
       "    <tr>\n",
       "      <th>Viliyusk</th>\n",
       "      <td>11095</td>\n",
       "      <td>15.0</td>\n",
       "      <td>739.666667</td>\n",
       "      <td>739.666667</td>\n",
       "    </tr>\n",
       "    <tr>\n",
       "      <th>Yakutsk</th>\n",
       "      <td>319000</td>\n",
       "      <td>122.0</td>\n",
       "      <td>2614.754098</td>\n",
       "      <td>2614.754098</td>\n",
       "    </tr>\n",
       "  </tbody>\n",
       "</table>\n",
       "</div>"
      ],
      "text/plain": [
       "           Население  Площадь    плотность    Плотность\n",
       "Neryungri      57009     98.9   576.430738   576.430738\n",
       "Tiksi           4000      NaN          NaN          NaN\n",
       "Viliyusk       11095     15.0   739.666667   739.666667\n",
       "Yakutsk       319000    122.0  2614.754098  2614.754098"
      ]
     },
     "execution_count": 57,
     "metadata": {},
     "output_type": "execute_result"
    }
   ],
   "source": [
    "# добавление нового столбца\n",
    "cities_data['Плотность'] = cities_data['Население'] / cities_data['Площадь']\n",
    "cities_data"
   ]
  },
  {
   "cell_type": "code",
   "execution_count": 58,
   "id": "bcd07cca",
   "metadata": {},
   "outputs": [
    {
     "data": {
      "text/html": [
       "<div>\n",
       "<style scoped>\n",
       "    .dataframe tbody tr th:only-of-type {\n",
       "        vertical-align: middle;\n",
       "    }\n",
       "\n",
       "    .dataframe tbody tr th {\n",
       "        vertical-align: top;\n",
       "    }\n",
       "\n",
       "    .dataframe thead th {\n",
       "        text-align: right;\n",
       "    }\n",
       "</style>\n",
       "<table border=\"1\" class=\"dataframe\">\n",
       "  <thead>\n",
       "    <tr style=\"text-align: right;\">\n",
       "      <th></th>\n",
       "      <th>Население</th>\n",
       "      <th>Площадь</th>\n",
       "      <th>Плотность</th>\n",
       "    </tr>\n",
       "  </thead>\n",
       "  <tbody>\n",
       "    <tr>\n",
       "      <th>Neryungri</th>\n",
       "      <td>57009</td>\n",
       "      <td>98.9</td>\n",
       "      <td>576.430738</td>\n",
       "    </tr>\n",
       "    <tr>\n",
       "      <th>Tiksi</th>\n",
       "      <td>4000</td>\n",
       "      <td>NaN</td>\n",
       "      <td>NaN</td>\n",
       "    </tr>\n",
       "    <tr>\n",
       "      <th>Viliyusk</th>\n",
       "      <td>11095</td>\n",
       "      <td>15.0</td>\n",
       "      <td>739.666667</td>\n",
       "    </tr>\n",
       "    <tr>\n",
       "      <th>Yakutsk</th>\n",
       "      <td>319000</td>\n",
       "      <td>122.0</td>\n",
       "      <td>2614.754098</td>\n",
       "    </tr>\n",
       "  </tbody>\n",
       "</table>\n",
       "</div>"
      ],
      "text/plain": [
       "           Население  Площадь    Плотность\n",
       "Neryungri      57009     98.9   576.430738\n",
       "Tiksi           4000      NaN          NaN\n",
       "Viliyusk       11095     15.0   739.666667\n",
       "Yakutsk       319000    122.0  2614.754098"
      ]
     },
     "execution_count": 58,
     "metadata": {},
     "output_type": "execute_result"
    }
   ],
   "source": [
    "del cities_data['плотность']\n",
    "cities_data"
   ]
  },
  {
   "cell_type": "code",
   "execution_count": 59,
   "id": "54576611",
   "metadata": {},
   "outputs": [
    {
     "data": {
      "text/html": [
       "<div>\n",
       "<style scoped>\n",
       "    .dataframe tbody tr th:only-of-type {\n",
       "        vertical-align: middle;\n",
       "    }\n",
       "\n",
       "    .dataframe tbody tr th {\n",
       "        vertical-align: top;\n",
       "    }\n",
       "\n",
       "    .dataframe thead th {\n",
       "        text-align: right;\n",
       "    }\n",
       "</style>\n",
       "<table border=\"1\" class=\"dataframe\">\n",
       "  <thead>\n",
       "    <tr style=\"text-align: right;\">\n",
       "      <th></th>\n",
       "      <th>Площадь</th>\n",
       "      <th>Плотность</th>\n",
       "    </tr>\n",
       "  </thead>\n",
       "  <tbody>\n",
       "    <tr>\n",
       "      <th>Tiksi</th>\n",
       "      <td>NaN</td>\n",
       "      <td>NaN</td>\n",
       "    </tr>\n",
       "    <tr>\n",
       "      <th>Viliyusk</th>\n",
       "      <td>15.0</td>\n",
       "      <td>739.666667</td>\n",
       "    </tr>\n",
       "    <tr>\n",
       "      <th>Yakutsk</th>\n",
       "      <td>122.0</td>\n",
       "      <td>2614.754098</td>\n",
       "    </tr>\n",
       "  </tbody>\n",
       "</table>\n",
       "</div>"
      ],
      "text/plain": [
       "          Площадь    Плотность\n",
       "Tiksi         NaN          NaN\n",
       "Viliyusk     15.0   739.666667\n",
       "Yakutsk     122.0  2614.754098"
      ]
     },
     "execution_count": 59,
     "metadata": {},
     "output_type": "execute_result"
    }
   ],
   "source": [
    "cities_data.loc['Tiksi':,'Площадь':]"
   ]
  },
  {
   "cell_type": "code",
   "execution_count": 61,
   "id": "b0c6b5e8",
   "metadata": {},
   "outputs": [
    {
     "data": {
      "text/html": [
       "<div>\n",
       "<style scoped>\n",
       "    .dataframe tbody tr th:only-of-type {\n",
       "        vertical-align: middle;\n",
       "    }\n",
       "\n",
       "    .dataframe tbody tr th {\n",
       "        vertical-align: top;\n",
       "    }\n",
       "\n",
       "    .dataframe thead th {\n",
       "        text-align: right;\n",
       "    }\n",
       "</style>\n",
       "<table border=\"1\" class=\"dataframe\">\n",
       "  <thead>\n",
       "    <tr style=\"text-align: right;\">\n",
       "      <th></th>\n",
       "      <th>Площадь</th>\n",
       "      <th>Население</th>\n",
       "    </tr>\n",
       "  </thead>\n",
       "  <tbody>\n",
       "    <tr>\n",
       "      <th>Tiksi</th>\n",
       "      <td>NaN</td>\n",
       "      <td>4000</td>\n",
       "    </tr>\n",
       "    <tr>\n",
       "      <th>Viliyusk</th>\n",
       "      <td>15.0</td>\n",
       "      <td>11095</td>\n",
       "    </tr>\n",
       "    <tr>\n",
       "      <th>Yakutsk</th>\n",
       "      <td>122.0</td>\n",
       "      <td>319000</td>\n",
       "    </tr>\n",
       "  </tbody>\n",
       "</table>\n",
       "</div>"
      ],
      "text/plain": [
       "          Площадь  Население\n",
       "Tiksi         NaN       4000\n",
       "Viliyusk     15.0      11095\n",
       "Yakutsk     122.0     319000"
      ]
     },
     "execution_count": 61,
     "metadata": {},
     "output_type": "execute_result"
    }
   ],
   "source": [
    "cities_data.loc['Tiksi':,['Площадь','Население']]"
   ]
  },
  {
   "cell_type": "code",
   "execution_count": 62,
   "id": "806ab928",
   "metadata": {},
   "outputs": [
    {
     "data": {
      "text/html": [
       "<div>\n",
       "<style scoped>\n",
       "    .dataframe tbody tr th:only-of-type {\n",
       "        vertical-align: middle;\n",
       "    }\n",
       "\n",
       "    .dataframe tbody tr th {\n",
       "        vertical-align: top;\n",
       "    }\n",
       "\n",
       "    .dataframe thead th {\n",
       "        text-align: right;\n",
       "    }\n",
       "</style>\n",
       "<table border=\"1\" class=\"dataframe\">\n",
       "  <thead>\n",
       "    <tr style=\"text-align: right;\">\n",
       "      <th></th>\n",
       "      <th>Площадь</th>\n",
       "      <th>Население</th>\n",
       "    </tr>\n",
       "  </thead>\n",
       "  <tbody>\n",
       "    <tr>\n",
       "      <th>Neryungri</th>\n",
       "      <td>98.9</td>\n",
       "      <td>57009</td>\n",
       "    </tr>\n",
       "    <tr>\n",
       "      <th>Viliyusk</th>\n",
       "      <td>15.0</td>\n",
       "      <td>11095</td>\n",
       "    </tr>\n",
       "  </tbody>\n",
       "</table>\n",
       "</div>"
      ],
      "text/plain": [
       "           Площадь  Население\n",
       "Neryungri     98.9      57009\n",
       "Viliyusk      15.0      11095"
      ]
     },
     "execution_count": 62,
     "metadata": {},
     "output_type": "execute_result"
    }
   ],
   "source": [
    "cities_data.loc[cities_data['Плотность']< 1000, ['Площадь','Население']]"
   ]
  },
  {
   "cell_type": "code",
   "execution_count": null,
   "id": "f711dac4",
   "metadata": {},
   "outputs": [],
   "source": []
  },
  {
   "cell_type": "markdown",
   "id": "a66ce1af",
   "metadata": {},
   "source": [
    "- Обработка отсутствующих данных"
   ]
  },
  {
   "cell_type": "code",
   "execution_count": 63,
   "id": "e9b22225",
   "metadata": {},
   "outputs": [
    {
     "data": {
      "text/plain": [
       "391104"
      ]
     },
     "execution_count": 63,
     "metadata": {},
     "output_type": "execute_result"
    }
   ],
   "source": [
    "np.sum(cities_data[\"Население\"])"
   ]
  },
  {
   "cell_type": "code",
   "execution_count": 64,
   "id": "7ddb3113",
   "metadata": {},
   "outputs": [
    {
     "data": {
      "text/plain": [
       "78.63333333333334"
      ]
     },
     "execution_count": 64,
     "metadata": {},
     "output_type": "execute_result"
    }
   ],
   "source": [
    "np.mean(cities_data[\"Площадь\"])"
   ]
  },
  {
   "cell_type": "code",
   "execution_count": 65,
   "id": "5e36ac20",
   "metadata": {},
   "outputs": [
    {
     "data": {
      "text/plain": [
       "78.63333333333334"
      ]
     },
     "execution_count": 65,
     "metadata": {},
     "output_type": "execute_result"
    }
   ],
   "source": [
    "# удаление строки с отсутствующим значением\n",
    "np.mean(cities_data.dropna()[\"Площадь\"])"
   ]
  },
  {
   "cell_type": "code",
   "execution_count": 66,
   "id": "4d21c90b",
   "metadata": {},
   "outputs": [
    {
     "data": {
      "text/html": [
       "<div>\n",
       "<style scoped>\n",
       "    .dataframe tbody tr th:only-of-type {\n",
       "        vertical-align: middle;\n",
       "    }\n",
       "\n",
       "    .dataframe tbody tr th {\n",
       "        vertical-align: top;\n",
       "    }\n",
       "\n",
       "    .dataframe thead th {\n",
       "        text-align: right;\n",
       "    }\n",
       "</style>\n",
       "<table border=\"1\" class=\"dataframe\">\n",
       "  <thead>\n",
       "    <tr style=\"text-align: right;\">\n",
       "      <th></th>\n",
       "      <th>Население</th>\n",
       "      <th>Площадь</th>\n",
       "      <th>Плотность</th>\n",
       "    </tr>\n",
       "  </thead>\n",
       "  <tbody>\n",
       "    <tr>\n",
       "      <th>Neryungri</th>\n",
       "      <td>57009</td>\n",
       "      <td>98.9</td>\n",
       "      <td>576.430738</td>\n",
       "    </tr>\n",
       "    <tr>\n",
       "      <th>Viliyusk</th>\n",
       "      <td>11095</td>\n",
       "      <td>15.0</td>\n",
       "      <td>739.666667</td>\n",
       "    </tr>\n",
       "    <tr>\n",
       "      <th>Yakutsk</th>\n",
       "      <td>319000</td>\n",
       "      <td>122.0</td>\n",
       "      <td>2614.754098</td>\n",
       "    </tr>\n",
       "  </tbody>\n",
       "</table>\n",
       "</div>"
      ],
      "text/plain": [
       "           Население  Площадь    Плотность\n",
       "Neryungri      57009     98.9   576.430738\n",
       "Viliyusk       11095     15.0   739.666667\n",
       "Yakutsk       319000    122.0  2614.754098"
      ]
     },
     "execution_count": 66,
     "metadata": {},
     "output_type": "execute_result"
    }
   ],
   "source": [
    "cities_data.dropna()"
   ]
  },
  {
   "cell_type": "code",
   "execution_count": 68,
   "id": "a128b077",
   "metadata": {},
   "outputs": [
    {
     "data": {
      "text/html": [
       "<div>\n",
       "<style scoped>\n",
       "    .dataframe tbody tr th:only-of-type {\n",
       "        vertical-align: middle;\n",
       "    }\n",
       "\n",
       "    .dataframe tbody tr th {\n",
       "        vertical-align: top;\n",
       "    }\n",
       "\n",
       "    .dataframe thead th {\n",
       "        text-align: right;\n",
       "    }\n",
       "</style>\n",
       "<table border=\"1\" class=\"dataframe\">\n",
       "  <thead>\n",
       "    <tr style=\"text-align: right;\">\n",
       "      <th></th>\n",
       "      <th>Население</th>\n",
       "    </tr>\n",
       "  </thead>\n",
       "  <tbody>\n",
       "    <tr>\n",
       "      <th>Neryungri</th>\n",
       "      <td>57009</td>\n",
       "    </tr>\n",
       "    <tr>\n",
       "      <th>Tiksi</th>\n",
       "      <td>4000</td>\n",
       "    </tr>\n",
       "    <tr>\n",
       "      <th>Viliyusk</th>\n",
       "      <td>11095</td>\n",
       "    </tr>\n",
       "    <tr>\n",
       "      <th>Yakutsk</th>\n",
       "      <td>319000</td>\n",
       "    </tr>\n",
       "  </tbody>\n",
       "</table>\n",
       "</div>"
      ],
      "text/plain": [
       "           Население\n",
       "Neryungri      57009\n",
       "Tiksi           4000\n",
       "Viliyusk       11095\n",
       "Yakutsk       319000"
      ]
     },
     "execution_count": 68,
     "metadata": {},
     "output_type": "execute_result"
    }
   ],
   "source": [
    "# удаление столбцов с отсутствующими значениеми\n",
    "# cities_data.dropna(axis=1) \n",
    "cities_data.dropna(axis='columns') # rows - строки, columns - столбцы"
   ]
  }
 ],
 "metadata": {
  "kernelspec": {
   "display_name": "Python 3",
   "language": "python",
   "name": "python3"
  },
  "language_info": {
   "codemirror_mode": {
    "name": "ipython",
    "version": 3
   },
   "file_extension": ".py",
   "mimetype": "text/x-python",
   "name": "python",
   "nbconvert_exporter": "python",
   "pygments_lexer": "ipython3",
   "version": "3.8.8"
  }
 },
 "nbformat": 4,
 "nbformat_minor": 5
}
